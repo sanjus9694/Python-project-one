{
 "cells": [
  {
   "cell_type": "code",
   "execution_count": 1,
   "id": "4a07c226",
   "metadata": {},
   "outputs": [],
   "source": [
    "import pandas as pd\n",
    "import numpy as np\n",
    "import matplotlib.pyplot as plt\n",
    "import seaborn as sns"
   ]
  },
  {
   "cell_type": "markdown",
   "id": "c4c3f667",
   "metadata": {},
   "source": [
    "# Overview of case:\n",
    "The Corporate Strategy Manager, who is leading the 3-Year Strategic Plan project, is interested in\n",
    "understanding the options available for a local expansion strategy, including increase the size of the\n",
    "shops. For this purpose, he wants you to:\n",
    "Issue 1: Perform a sales value and volume analysis of the three coffee shops to identify the\n",
    "best shops to invest for future expansion.\n",
    "As part of the analysis, the Marketing Manager is considering options to increase the return from his\n",
    "marketing budget by better targeting the core market segments the company serves with promotion\n",
    "campaigns. Currently customers are grouped into six market segments:\n",
    "\n",
    "• single professional/working people,\n",
    "• young married couples,\n",
    "• married couples with children (e.g. families),\n",
    "• young people (e.g. students),\n",
    "• tourists and\n",
    "• retired people.\n",
    "\n",
    "In order to increase the return of investment of the marking function, the Marketing Manager wants\n",
    "to target COTS’s promotions campaigns to those market segments with the highest sales potential,\n",
    "so he can increase the revenue per customer. Therefore, he wants you to:\n",
    "Issue 2: Perform a customer analysis to identify which market segments provides the\n",
    "highest revenue.\n",
    "COTS current products are well appreciated by customers because of their high quality. The menu is\n",
    "made of Cakes, Coffee, Cold drinks, Hot drinks and Pastry. However, as part of COTS’s strategy to\n",
    "appeal to a wider market, in June 2022 the company run a trial at its shop in Plymouth where two\n",
    "new range of products were added to the menu: breakfast and healthy snacks. Breakfast menu\n",
    "includes hearty blueberry oatmeal, bacon & gouda breakfast sandwich, spinach & feta breakfast\n",
    "wrap and slow roasted ham & Swiss cheese on croissant bun. The healthy menu includes a fruit bar,\n",
    "protein bistro box, omega 3 bistro box and cheese & fruit bistro box. The Sales Director is keen to\n",
    "understand if these two new entries to the menu could be expanded to other shops in the chain. So,\n",
    "he wants you to address the question:\n",
    "Issue 3: Did the two new product ranges (breakfast and healthy snacks) added to\n",
    "Plymouth’s menu have a positive impact on the sales performance of the shop?\n",
    "The responses to the issues detailed above should be included in a summary MS Word report that\n",
    "you save and submit as a PDF format file.\n",
    "Because this is your first project within COTS, the Corporate Strategy Manager has given you\n",
    "additional details regarding the structure and content that it is expected to see in your report. This\n",
    "is set out in Section 3 – Report Structure.\n",
    "\n",
    "A set of data is available (dataset spreadsheet file). Since the data comes directly from\n",
    "the coffee shops, quality issues are present which will require your attention!\n",
    "\n",
    "Tasks:\n",
    "(Table A) Sales volume and value by month, by year and across the 3 years period\n",
    "(Table B) Benchmark comparisons of market segments performance covering sales volume\n",
    "and value by year and across the 3 years period, and\n",
    "(Table C) Benchmark comparisons of sales volume and value between coffee shops by year and across the 3 years period. \n",
    "\n",
    "Charts:\n",
    "(Chart A) Comparison of sales value trends across coffee shops over time\n",
    "(Chart B) Market segments performance comparisons between coffee shops, and\n",
    "(Chart C) Impact of the addition of the two new product ranges to the Plymouth’s menu,\n",
    "and in comparison with the other two cities."
   ]
  },
  {
   "cell_type": "code",
   "execution_count": 2,
   "id": "1d01f17d",
   "metadata": {
    "scrolled": true
   },
   "outputs": [
    {
     "data": {
      "text/html": [
       "<div>\n",
       "<style scoped>\n",
       "    .dataframe tbody tr th:only-of-type {\n",
       "        vertical-align: middle;\n",
       "    }\n",
       "\n",
       "    .dataframe tbody tr th {\n",
       "        vertical-align: top;\n",
       "    }\n",
       "\n",
       "    .dataframe thead th {\n",
       "        text-align: right;\n",
       "    }\n",
       "</style>\n",
       "<table border=\"1\" class=\"dataframe\">\n",
       "  <thead>\n",
       "    <tr style=\"text-align: right;\">\n",
       "      <th></th>\n",
       "      <th>City coffee shop</th>\n",
       "      <th>Year</th>\n",
       "      <th>Month</th>\n",
       "      <th>Market segment</th>\n",
       "      <th>Sales Volume</th>\n",
       "      <th>Sales Value</th>\n",
       "    </tr>\n",
       "  </thead>\n",
       "  <tbody>\n",
       "    <tr>\n",
       "      <th>0</th>\n",
       "      <td>Poole</td>\n",
       "      <td>2020</td>\n",
       "      <td>1</td>\n",
       "      <td>Young people</td>\n",
       "      <td>89</td>\n",
       "      <td>369.0</td>\n",
       "    </tr>\n",
       "    <tr>\n",
       "      <th>1</th>\n",
       "      <td>Poole</td>\n",
       "      <td>2020</td>\n",
       "      <td>1</td>\n",
       "      <td>Single professional people</td>\n",
       "      <td>44</td>\n",
       "      <td>82.0</td>\n",
       "    </tr>\n",
       "    <tr>\n",
       "      <th>2</th>\n",
       "      <td>Poole</td>\n",
       "      <td>2020</td>\n",
       "      <td>1</td>\n",
       "      <td>Married young couples</td>\n",
       "      <td>59</td>\n",
       "      <td>137.0</td>\n",
       "    </tr>\n",
       "    <tr>\n",
       "      <th>3</th>\n",
       "      <td>Poole</td>\n",
       "      <td>2020</td>\n",
       "      <td>1</td>\n",
       "      <td>Families with children</td>\n",
       "      <td>22</td>\n",
       "      <td>121.0</td>\n",
       "    </tr>\n",
       "    <tr>\n",
       "      <th>4</th>\n",
       "      <td>Poole</td>\n",
       "      <td>2020</td>\n",
       "      <td>1</td>\n",
       "      <td>Tourists</td>\n",
       "      <td>17</td>\n",
       "      <td>105.0</td>\n",
       "    </tr>\n",
       "  </tbody>\n",
       "</table>\n",
       "</div>"
      ],
      "text/plain": [
       "  City coffee shop  Year  Month              Market segment Sales Volume  \\\n",
       "0            Poole  2020      1               Young people            89   \n",
       "1            Poole  2020      1  Single professional people           44   \n",
       "2            Poole  2020      1      Married young couples            59   \n",
       "3            Poole  2020      1      Families with children           22   \n",
       "4            Poole  2020      1                    Tourists           17   \n",
       "\n",
       "   Sales Value  \n",
       "0        369.0  \n",
       "1         82.0  \n",
       "2        137.0  \n",
       "3        121.0  \n",
       "4        105.0  "
      ]
     },
     "execution_count": 2,
     "metadata": {},
     "output_type": "execute_result"
    }
   ],
   "source": [
    "df=pd.read_excel(\"H:/sanjeev/cafe data.xlsx\")\n",
    "df.head()"
   ]
  },
  {
   "cell_type": "markdown",
   "id": "3a6f74b7",
   "metadata": {},
   "source": [
    "# Data cleaning.\n"
   ]
  },
  {
   "cell_type": "code",
   "execution_count": 3,
   "id": "2d9f8121",
   "metadata": {},
   "outputs": [
    {
     "name": "stdout",
     "output_type": "stream",
     "text": [
      "<class 'pandas.core.frame.DataFrame'>\n",
      "RangeIndex: 648 entries, 0 to 647\n",
      "Data columns (total 6 columns):\n",
      " #   Column            Non-Null Count  Dtype  \n",
      "---  ------            --------------  -----  \n",
      " 0   City coffee shop  648 non-null    object \n",
      " 1   Year              648 non-null    int64  \n",
      " 2   Month             648 non-null    int64  \n",
      " 3   Market segment    648 non-null    object \n",
      " 4   Sales Volume      648 non-null    object \n",
      " 5   Sales Value       648 non-null    float64\n",
      "dtypes: float64(1), int64(2), object(3)\n",
      "memory usage: 30.5+ KB\n"
     ]
    }
   ],
   "source": [
    "df.info()"
   ]
  },
  {
   "cell_type": "code",
   "execution_count": 4,
   "id": "fbb28db5",
   "metadata": {},
   "outputs": [
    {
     "data": {
      "text/plain": [
       "array(['Poole', 'Pooleham', 'Newquay', 'Plymouth'], dtype=object)"
      ]
     },
     "execution_count": 4,
     "metadata": {},
     "output_type": "execute_result"
    }
   ],
   "source": [
    "df[\"City coffee shop\"].unique()"
   ]
  },
  {
   "cell_type": "code",
   "execution_count": 5,
   "id": "4a57d216",
   "metadata": {},
   "outputs": [
    {
     "data": {
      "text/plain": [
       "array(['Poole', 'Newquay', 'Plymouth'], dtype=object)"
      ]
     },
     "execution_count": 5,
     "metadata": {},
     "output_type": "execute_result"
    }
   ],
   "source": [
    "def handle (value):\n",
    "    value=str(value).replace(\"Pooleham\",\"Poole\")\n",
    "    return value\n",
    "df[\"City coffee shop\"]=df[\"City coffee shop\"].apply(handle)\n",
    "df[\"City coffee shop\"].unique()"
   ]
  },
  {
   "cell_type": "code",
   "execution_count": 6,
   "id": "fb0b81e4",
   "metadata": {},
   "outputs": [
    {
     "data": {
      "text/plain": [
       "array([2020, 2021, 2022, 2032], dtype=int64)"
      ]
     },
     "execution_count": 6,
     "metadata": {},
     "output_type": "execute_result"
    }
   ],
   "source": [
    "df[\"Year\"].unique()"
   ]
  },
  {
   "cell_type": "code",
   "execution_count": 7,
   "id": "6cd90054",
   "metadata": {},
   "outputs": [
    {
     "data": {
      "text/plain": [
       "array([2020, 2021, 2022], dtype=int64)"
      ]
     },
     "execution_count": 7,
     "metadata": {},
     "output_type": "execute_result"
    }
   ],
   "source": [
    "def handle_year (value):\n",
    "    value=str(value).replace(\"2032\",\"2022\")\n",
    "    return int(value)\n",
    "df[\"Year\"]=df[\"Year\"].apply(handle_year)\n",
    "df[\"Year\"].unique()"
   ]
  },
  {
   "cell_type": "code",
   "execution_count": 8,
   "id": "2554be00",
   "metadata": {},
   "outputs": [
    {
     "data": {
      "text/plain": [
       "array(['Young people ', 'Single professional people',\n",
       "       'Married young couples ', 'Families with children', 'Tourists',\n",
       "       'Retired people', 'Married Y.P.', 'Turistas', 'Retired',\n",
       "       'Fam. children'], dtype=object)"
      ]
     },
     "execution_count": 8,
     "metadata": {},
     "output_type": "execute_result"
    }
   ],
   "source": [
    "df[\"Market segment\"].unique()"
   ]
  },
  {
   "cell_type": "code",
   "execution_count": 10,
   "id": "16b0b463",
   "metadata": {},
   "outputs": [
    {
     "name": "stdout",
     "output_type": "stream",
     "text": [
      "['Young people' 'Single professionals' 'Married young couples'\n",
      " 'Families with children' 'Tourists' 'Retired people']\n"
     ]
    }
   ],
   "source": [
    "mapping_dict = {\n",
    "    'Young people ': 'Young people',\n",
    "    'Single professional people': 'Single professionals',\n",
    "    'Married young couples ': 'Married young couples',\n",
    "    'Married Y.P.': 'Married young couples',\n",
    "    'Families with children': 'Families with children',\n",
    "    'Tourists': 'Tourists',\n",
    "    'Retired people': 'Retired people',\n",
    "    'Retired': 'Retired people',\n",
    "    'Fam. children': 'Families with children'}\n",
    "\n",
    "df[\"Market segment\"].replace(mapping_dict, inplace=True)\n",
    "\n",
    "print(df[\"Market segment\"].unique())\n"
   ]
  },
  {
   "cell_type": "code",
   "execution_count": 12,
   "id": "e5a6f0d6",
   "metadata": {},
   "outputs": [
    {
     "data": {
      "text/plain": [
       "Index(['City coffee shop', 'Year', 'Month', 'Market segment', 'Sales Volume',\n",
       "       'Sales Value'],\n",
       "      dtype='object')"
      ]
     },
     "execution_count": 12,
     "metadata": {},
     "output_type": "execute_result"
    }
   ],
   "source": [
    "df.columns"
   ]
  },
  {
   "cell_type": "code",
   "execution_count": 13,
   "id": "ea6dedc4",
   "metadata": {},
   "outputs": [
    {
     "data": {
      "text/plain": [
       "array([89, 44, 59, 22, 17, 56, 97, '-', 54, 24, 18, 63, 99, 49, 61, 23,\n",
       "       58, 146, 60, 76, 35, 67, 104, 46, 65, 37, 19, 47, 85, 117, 55, 66,\n",
       "       41, 25, 68, 133, 64, 78, 42, 98, 122, 40, 70, 84, 110, 62, 29, 75,\n",
       "       93, 52, 69, 32, 77, 86, 38, 80, 26, 96, 48, 33, 20, 124, 145, 30,\n",
       "       100, 123, 51, 107, 74, 27, 16, 73, 53, 72, 132, 34, 116, 82, 128,\n",
       "       45, 112, 12, 71, 126, 106, 31, 91, 103, 90, 87, 114, 81, 143, 108,\n",
       "       36, 120, 121, 138.5, 75.5, 23.5, 138, 94, 45.5, 169, 93.5, 47.5,\n",
       "       30.5, 175, 109, 54.5, 39.5, 144.5, 104.5, 44.5, 141.5, 124.5, 32.5,\n",
       "       197.5, 38.5, 161.5, 86.5, 106.5, 111.5, 123.5, 77.5, 134.5, 65.5,\n",
       "       85.5, 109.5, 87.5, 102.5, 91.5, 149.5, 28.5, 35.5, 25.5, 72.5,\n",
       "       113.5, 90.5, 42.5, 27.5, 81.5, 203, 108.5, 142, 125.5, 135, 83,\n",
       "       118.5, 24.5, 173.5, 112.5, 127.5, 185, 43.5, 208.5, 155.5, 71.5,\n",
       "       99.5, 50, 121.5, 171.5, 48.5, 125, 172, 53.5, 115.5, 105, 57.5,\n",
       "       78.5, 159.5, 163, 79, 92.5, 128.5, 194, 95.5, 46.5, 129.5, 51.5,\n",
       "       165, 92, 135.5, 211.5, 83.5, 148, 226, 154, 66.5, 131.5, 170.5,\n",
       "       94.5, 114.5, 167.5, 113, 161, 132.5, 177.5, 37.5, 179, 189, 131,\n",
       "       193, 152, 289, 164, -1, 199, 157, 219, 151, 254, 162, 150, 227,\n",
       "       173, 153, 228, 129, 156, 197, 178, 119, 28, 43, 217, 167, 139, 88,\n",
       "       147, 238, 253, 177, 166, 267, 137, 213, 186, 249, 111, 127, 201,\n",
       "       155, 182, 183, 205, 159, 215, 243, 237.2, 135.51199999999997,\n",
       "       198.53199999999995, 79.99199999999998, 51.15999999999998,\n",
       "       161.05999999999992, 330.8559999999998, 122.69999999999992,\n",
       "       222.85599999999982, 97.30199999999992, 64.91999999999993,\n",
       "       220.82399999999976, 357.3279999999996, 179.9499999999998,\n",
       "       265.65199999999965, 108.91999999999985, 69.9599999999999,\n",
       "       226.79599999999965, 237.2919999999996, 146.84199999999976,\n",
       "       206.8399999999996, 70.37599999999986, 59.21199999999989,\n",
       "       214.24799999999954, 283.51999999999936, 159.69999999999962,\n",
       "       154.92799999999963, 73.07399999999981, 45.66399999999988,\n",
       "       210.84599999999944, 293.7399999999992, 135.87199999999962,\n",
       "       181.87199999999947, 100.6399999999997, 62.16799999999981,\n",
       "       202.00999999999937, 243.2559999999992, 156.33599999999947,\n",
       "       217.41199999999927, 89.68599999999968, 51.5599999999998,\n",
       "       197.0779999999993], dtype=object)"
      ]
     },
     "execution_count": 13,
     "metadata": {},
     "output_type": "execute_result"
    }
   ],
   "source": [
    "df[\"Sales Volume\"].unique()"
   ]
  },
  {
   "cell_type": "code",
   "execution_count": 14,
   "id": "cd02c0a8",
   "metadata": {},
   "outputs": [
    {
     "data": {
      "text/plain": [
       "array([89, 44, 59, 22, 17, 56, 97, '0', 54, 24, 18, 63, 99, 49, 61, 23,\n",
       "       58, 146, 60, 76, 35, 67, 104, 46, 65, 37, 19, 47, 85, 117, 55, 66,\n",
       "       41, 25, 68, 133, 64, 78, 42, 98, 122, 40, 70, 84, 110, 62, 29, 75,\n",
       "       93, 52, 69, 32, 77, 86, 38, 80, 26, 96, 48, 33, 20, 124, 145, 30,\n",
       "       100, 123, 51, 107, 74, 27, 16, 73, 53, 72, 132, 34, 116, 82, 128,\n",
       "       45, 112, 12, 71, 126, 106, 31, 91, 103, 90, 87, 114, 81, 143, 108,\n",
       "       36, 120, 121, 138.5, 75.5, 23.5, 138, 94, 45.5, 169, 93.5, 47.5,\n",
       "       30.5, 175, 109, 54.5, 39.5, 144.5, 104.5, 44.5, 141.5, 124.5, 32.5,\n",
       "       197.5, 38.5, 161.5, 86.5, 106.5, 111.5, 123.5, 77.5, 134.5, 65.5,\n",
       "       85.5, 109.5, 87.5, 102.5, 91.5, 149.5, 28.5, 35.5, 25.5, 72.5,\n",
       "       113.5, 90.5, 42.5, 27.5, 81.5, 203, 108.5, 142, 125.5, 135, 83,\n",
       "       118.5, 24.5, 173.5, 112.5, 127.5, 185, 43.5, 208.5, 155.5, 71.5,\n",
       "       99.5, 50, 121.5, 171.5, 48.5, 125, 172, 53.5, 115.5, 105, 57.5,\n",
       "       78.5, 159.5, 163, 79, 92.5, 128.5, 194, 95.5, 46.5, 129.5, 51.5,\n",
       "       165, 92, 135.5, 211.5, 83.5, 148, 226, 154, 66.5, 131.5, 170.5,\n",
       "       94.5, 114.5, 167.5, 113, 161, 132.5, 177.5, 37.5, 179, 189, 131,\n",
       "       193, 152, 289, 164, -1, 199, 157, 219, 151, 254, 162, 150, 227,\n",
       "       173, 153, 228, 129, 156, 197, 178, 119, 28, 43, 217, 167, 139, 88,\n",
       "       147, 238, 253, 177, 166, 267, 137, 213, 186, 249, 111, 127, 201,\n",
       "       155, 182, 183, 205, 159, 215, 243, 237.2, 135.51199999999997,\n",
       "       198.53199999999995, 79.99199999999998, 51.15999999999998,\n",
       "       161.05999999999992, 330.8559999999998, 122.69999999999992,\n",
       "       222.85599999999982, 97.30199999999992, 64.91999999999993,\n",
       "       220.82399999999976, 357.3279999999996, 179.9499999999998,\n",
       "       265.65199999999965, 108.91999999999985, 69.9599999999999,\n",
       "       226.79599999999965, 237.2919999999996, 146.84199999999976,\n",
       "       206.8399999999996, 70.37599999999986, 59.21199999999989,\n",
       "       214.24799999999954, 283.51999999999936, 159.69999999999962,\n",
       "       154.92799999999963, 73.07399999999981, 45.66399999999988,\n",
       "       210.84599999999944, 293.7399999999992, 135.87199999999962,\n",
       "       181.87199999999947, 100.6399999999997, 62.16799999999981,\n",
       "       202.00999999999937, 243.2559999999992, 156.33599999999947,\n",
       "       217.41199999999927, 89.68599999999968, 51.5599999999998,\n",
       "       197.0779999999993], dtype=object)"
      ]
     },
     "execution_count": 14,
     "metadata": {},
     "output_type": "execute_result"
    }
   ],
   "source": [
    "dc={\"-\":\"0\"}\n",
    "df[\"Sales Volume\"].replace(dc,inplace=True)\n",
    "df[\"Sales Volume\"].unique()"
   ]
  },
  {
   "cell_type": "code",
   "execution_count": 15,
   "id": "1d892337",
   "metadata": {},
   "outputs": [
    {
     "data": {
      "text/plain": [
       "array([ 369.   ,   82.   ,  137.   ,  121.   ,  105.   ,  106.   ,\n",
       "        407.   ,    0.   ,  129.5  ,  127.   ,  117.   ,  124.   ,\n",
       "        398.   ,  115.   ,  166.5  ,  120.   ,  109.   ,  586.   ,\n",
       "        118.   ,  198.5  ,  177.   ,  136.   ,  148.   ,  433.   ,\n",
       "         87.   ,  181.   ,  193.   ,  103.   ,  111.   ,  393.   ,\n",
       "         92.   ,  203.   ,   99.   ,  155.   ,  473.   ,  128.   ,\n",
       "        151.5  ,  186.   ,  122.   ,  548.   ,  132.   ,  205.5  ,\n",
       "        225.   ,  206.   ,  474.   ,   77.   ,  172.5  ,  123.   ,\n",
       "        171.   ,  455.   ,  108.   ,  189.   ,  174.   ,  135.   ,\n",
       "        154.   ,  349.   ,  172.   ,  161.   ,  162.   ,  485.   ,\n",
       "         81.   ,  202.5  ,  191.   ,  129.   ,  357.   ,  107.   ,\n",
       "        139.   ,  116.   ,  411.   ,  163.   ,  472.   ,  113.   ,\n",
       "        209.5  ,   89.   ,  150.   ,  581.   ,  143.   ,  212.5  ,\n",
       "        165.   ,  182.   ,  196.   ,  489.   ,   86.   ,  160.5  ,\n",
       "        102.   ,  140.   ,  446.   ,  194.   ,  114.   ,  141.   ,\n",
       "        551.   ,  181.5  ,  199.   ,  156.   ,  523.   ,  170.   ,\n",
       "        500.   ,   76.   ,  162.5  ,  173.   ,  134.   ,  467.   ,\n",
       "        185.   ,  168.   ,  516.   ,  187.   ,  441.   ,   97.   ,\n",
       "        152.5  ,  164.   ,  415.   ,  100.   ,  331.   ,   73.   ,\n",
       "        180.   ,  146.   ,  515.   ,  104.   ,  236.5  ,  175.   ,\n",
       "        565.   ,  125.   ,  281.5  ,  183.   ,  408.   ,  133.   ,\n",
       "        216.5  ,  160.   ,  217.   ,  444.   ,  219.   ,  167.   ,\n",
       "        583.   ,  131.   ,  262.5  ,  245.   ,  169.   ,  209.   ,\n",
       "        499.   ,  182.5  ,  419.   ,   96.   ,  478.   ,  157.   ,\n",
       "        126.   ,  465.   ,   88.   ,  571.   ,  177.25 ,  147.   ,\n",
       "       -545.   ,  242.5  ,  217.5  ,  679.   ,  144.   ,  241.75 ,\n",
       "        219.5  ,  723.   ,  224.   ,  247.5  ,  287.5  ,  228.   ,\n",
       "        301.   ,  600.   ,  145.   ,  253.25 ,  225.5  ,  291.75 ,\n",
       "        279.   ,  214.   ,  255.   ,  799.   ,  149.   ,  265.   ,\n",
       "        271.   ,  231.   ,  212.   ,  632.   ,  269.75 ,  284.   ,\n",
       "        240.   ,  237.   ,  487.   ,  231.5  ,  239.   ,  184.   ,\n",
       "        179.   ,  555.   ,  211.25 ,  521.   ,  249.75 ,  213.5  ,\n",
       "        152.   ,  202.   ,  608.   ,  218.   ,  591.   ,  185.75 ,\n",
       "        183.5  ,  158.   ,  142.   ,  212.25 ,  228.5  ,  159.   ,\n",
       "        517.   ,  215.25 ,  794.   ,  207.   ,  347.5  ,  248.   ,\n",
       "        234.   ,  519.   ,  176.   ,  299.75 ,  230.   ,  689.   ,\n",
       "        258.75 ,  210.   ,  266.   ,  721.   ,  334.5  ,  324.   ,\n",
       "        238.   ,  283.   ,  834.   ,  346.5  ,  295.   ,  607.   ,\n",
       "        255.75 ,  211.   ,  669.   ,  276.5  ,  220.5  ,  178.   ,\n",
       "        205.   ,  691.   ,  314.5  ,  195.5  ,  258.   ,  687.   ,\n",
       "       -271.25 ,  268.5  ,  188.   ,  423.   ,  209.75 ,  215.   ,\n",
       "        204.   ,  628.   ,  230.25 ,  201.   ,  221.   ,  673.   ,\n",
       "        151.   ,  247.   ,  753.   ,  319.25 ,  325.   ,  274.   ,\n",
       "        252.   ,  541.   ,  338.25 ,  267.5  ,  254.   ,  654.   ,\n",
       "        192.   ,  223.5  ,  822.   ,  345.5  ,  315.   ,  926.   ,\n",
       "        387.5  ,  311.5  ,  246.   ,  276.   ,  667.   ,  280.75 ,\n",
       "        232.5  ,  198.   ,  243.   ,  685.   ,  195.   ,  288.   ,\n",
       "        229.   ,  639.   ,  311.25 ,  261.   ,  729.   ,  197.   ,\n",
       "        726.   ,  235.   ,  750.   ,  166.   ,  306.   ,  253.   ,\n",
       "        796.   ,  378.   ,  308.   , 1154.   ,  256.   ,  348.   ,\n",
       "        297.   , -354.   ,  377.   ,  268.   ,  241.   ,  870.   ,\n",
       "        300.   ,  362.   ,  287.   ,  320.   , 1036.   ,  385.   ,\n",
       "        361.   ,  318.   ,  303.   ,  918.   ,  428.   ,  395.   ,\n",
       "        286.   ,  299.   ,  906.   ,  220.   ,  249.   ,  277.   ,\n",
       "        924.   ,  339.   ,  275.   ,  232.   ,  714.   ,  304.   ,\n",
       "        327.   ,  233.   ,  807.   ,  358.   ,  713.   ,  291.   ,\n",
       "        251.   ,  722.   ,  891.   ,  434.   ,  366.   ,  270.   ,\n",
       "        319.   ,  382.   ,  435.   ,  285.   ,  950.   , -397.   ,\n",
       "        262.   ,  323.   , 1021.   ,  326.   ,  761.   ,  381.   ,\n",
       "        311.   , 1092.   ,  539.   ,  392.   ,  766.   ,  360.   ,\n",
       "        992.   ,  302.   ,  786.   ,  379.   ,  347.   , 1016.   ,\n",
       "        363.   ,  353.   ,  748.   ,  250.   ,  263.   ,  811.   ,\n",
       "        281.   ,  879.   ,  267.   ,  989.   ,  388.   ,  445.   ,\n",
       "        333.   ,  280.   ,  946.8  ,  260.024,  487.83 ,  372.96 ,\n",
       "        273.96 ,  323.12 , 1326.424,  232.4  ,  542.64 ,  456.51 ,\n",
       "        363.52 ,  437.648, 1439.312,  368.9  ,  652.63 ,  543.6  ,\n",
       "        427.76 ,  467.592,  959.168,  293.684,  535.6  ,  355.88 ,\n",
       "        328.272,  423.496, 1133.08 ,  316.4  ,  384.32 ,  366.37 ,\n",
       "        294.984,  434.692, 1183.96 ,  281.744,  456.68 ,  481.2  ,\n",
       "        400.008,  418.02 ,  962.024,  328.672,  524.53 ,  467.43 ,\n",
       "        318.36 ,  377.156])"
      ]
     },
     "execution_count": 15,
     "metadata": {},
     "output_type": "execute_result"
    }
   ],
   "source": [
    "df[\"Sales Value\"].unique()\n"
   ]
  },
  {
   "cell_type": "code",
   "execution_count": 17,
   "id": "87dbd268",
   "metadata": {},
   "outputs": [
    {
     "data": {
      "text/plain": [
       "array([ 369.   ,   82.   ,  137.   ,  121.   ,  105.   ,  106.   ,\n",
       "        407.   ,    0.   ,  129.5  ,  127.   ,  117.   ,  124.   ,\n",
       "        398.   ,  115.   ,  166.5  ,  120.   ,  109.   ,  586.   ,\n",
       "        118.   ,  198.5  ,  177.   ,  136.   ,  148.   ,  433.   ,\n",
       "         87.   ,  181.   ,  193.   ,  103.   ,  111.   ,  393.   ,\n",
       "         92.   ,  203.   ,   99.   ,  155.   ,  473.   ,  128.   ,\n",
       "        151.5  ,  186.   ,  122.   ,  548.   ,  132.   ,  205.5  ,\n",
       "        225.   ,  206.   ,  474.   ,   77.   ,  172.5  ,  123.   ,\n",
       "        171.   ,  455.   ,  108.   ,  189.   ,  174.   ,  135.   ,\n",
       "        154.   ,  349.   ,  172.   ,  161.   ,  162.   ,  485.   ,\n",
       "         81.   ,  202.5  ,  191.   ,  129.   ,  357.   ,  107.   ,\n",
       "        139.   ,  116.   ,  411.   ,  163.   ,  472.   ,  113.   ,\n",
       "        209.5  ,   89.   ,  150.   ,  581.   ,  143.   ,  212.5  ,\n",
       "        165.   ,  182.   ,  196.   ,  489.   ,   86.   ,  160.5  ,\n",
       "        102.   ,  140.   ,  446.   ,  194.   ,  114.   ,  141.   ,\n",
       "        551.   ,  181.5  ,  199.   ,  156.   ,  523.   ,  170.   ,\n",
       "        500.   ,   76.   ,  162.5  ,  173.   ,  134.   ,  467.   ,\n",
       "        185.   ,  168.   ,  516.   ,  187.   ,  441.   ,   97.   ,\n",
       "        152.5  ,  164.   ,  415.   ,  100.   ,  331.   ,   73.   ,\n",
       "        180.   ,  146.   ,  515.   ,  104.   ,  236.5  ,  175.   ,\n",
       "        565.   ,  125.   ,  281.5  ,  183.   ,  408.   ,  133.   ,\n",
       "        216.5  ,  160.   ,  217.   ,  444.   ,  219.   ,  167.   ,\n",
       "        583.   ,  131.   ,  262.5  ,  245.   ,  169.   ,  209.   ,\n",
       "        499.   ,  182.5  ,  419.   ,   96.   ,  478.   ,  157.   ,\n",
       "        126.   ,  465.   ,   88.   ,  571.   ,  177.25 ,  147.   ,\n",
       "       -545.   ,  242.5  ,  217.5  ,  679.   ,  144.   ,  241.75 ,\n",
       "        219.5  ,  723.   ,  224.   ,  247.5  ,  287.5  ,  228.   ,\n",
       "        301.   ,  600.   ,  145.   ,  253.25 ,  225.5  ,  291.75 ,\n",
       "        279.   ,  214.   ,  255.   ,  799.   ,  149.   ,  265.   ,\n",
       "        271.   ,  231.   ,  212.   ,  632.   ,  269.75 ,  284.   ,\n",
       "        240.   ,  237.   ,  487.   ,  231.5  ,  239.   ,  184.   ,\n",
       "        179.   ,  555.   ,  211.25 ,  521.   ,  249.75 ,  213.5  ,\n",
       "        152.   ,  202.   ,  608.   ,  218.   ,  591.   ,  185.75 ,\n",
       "        183.5  ,  158.   ,  142.   ,  212.25 ,  228.5  ,  159.   ,\n",
       "        517.   ,  215.25 ,  794.   ,  207.   ,  347.5  ,  248.   ,\n",
       "        234.   ,  519.   ,  176.   ,  299.75 ,  230.   ,  689.   ,\n",
       "        258.75 ,  210.   ,  266.   ,  721.   ,  334.5  ,  324.   ,\n",
       "        238.   ,  283.   ,  834.   ,  346.5  ,  295.   ,  607.   ,\n",
       "        255.75 ,  211.   ,  669.   ,  276.5  ,  220.5  ,  178.   ,\n",
       "        205.   ,  691.   ,  314.5  ,  195.5  ,  258.   ,  687.   ,\n",
       "       -271.25 ,  268.5  ,  188.   ,  423.   ,  209.75 ,  215.   ,\n",
       "        204.   ,  628.   ,  230.25 ,  201.   ,  221.   ,  673.   ,\n",
       "        151.   ,  247.   ,  753.   ,  319.25 ,  325.   ,  274.   ,\n",
       "        252.   ,  541.   ,  338.25 ,  267.5  ,  254.   ,  654.   ,\n",
       "        192.   ,  223.5  ,  822.   ,  345.5  ,  315.   ,  926.   ,\n",
       "        387.5  ,  311.5  ,  246.   ,  276.   ,  667.   ,  280.75 ,\n",
       "        232.5  ,  198.   ,  243.   ,  685.   ,  195.   ,  288.   ,\n",
       "        229.   ,  639.   ,  311.25 ,  261.   ,  729.   ,  197.   ,\n",
       "        726.   ,  235.   ,  750.   ,  166.   ,  306.   ,  253.   ,\n",
       "        796.   ,  378.   ,  308.   , 1154.   ,  256.   ,  348.   ,\n",
       "        297.   , -354.   ,  377.   ,  268.   ,  241.   ,  870.   ,\n",
       "        300.   ,  362.   ,  287.   ,  320.   , 1036.   ,  385.   ,\n",
       "        361.   ,  318.   ,  303.   ,  918.   ,  428.   ,  395.   ,\n",
       "        286.   ,  299.   ,  906.   ,  220.   ,  249.   ,  277.   ,\n",
       "        924.   ,  339.   ,  275.   ,  232.   ,  714.   ,  304.   ,\n",
       "        327.   ,  233.   ,  807.   ,  358.   ,  713.   ,  291.   ,\n",
       "        251.   ,  722.   ,  891.   ,  434.   ,  366.   ,  270.   ,\n",
       "        319.   ,  382.   ,  435.   ,  285.   ,  950.   , -397.   ,\n",
       "        262.   ,  323.   , 1021.   ,  326.   ,  761.   ,  381.   ,\n",
       "        311.   , 1092.   ,  539.   ,  392.   ,  766.   ,  360.   ,\n",
       "        992.   ,  302.   ,  786.   ,  379.   ,  347.   , 1016.   ,\n",
       "        363.   ,  353.   ,  748.   ,  250.   ,  263.   ,  811.   ,\n",
       "        281.   ,  879.   ,  267.   ,  989.   ,  388.   ,  445.   ,\n",
       "        333.   ,  280.   ,  946.8  ,  260.024,  487.83 ,  372.96 ,\n",
       "        273.96 ,  323.12 , 1326.424,  232.4  ,  542.64 ,  456.51 ,\n",
       "        363.52 ,  437.648, 1439.312,  368.9  ,  652.63 ,  543.6  ,\n",
       "        427.76 ,  467.592,  959.168,  293.684,  535.6  ,  355.88 ,\n",
       "        328.272,  423.496, 1133.08 ,  316.4  ,  384.32 ,  366.37 ,\n",
       "        294.984,  434.692, 1183.96 ,  281.744,  456.68 ,  481.2  ,\n",
       "        400.008,  418.02 ,  962.024,  328.672,  524.53 ,  467.43 ,\n",
       "        318.36 ,  377.156])"
      ]
     },
     "execution_count": 17,
     "metadata": {},
     "output_type": "execute_result"
    }
   ],
   "source": [
    "d={\"-\":\"0\"}\n",
    "df[\"Sales Value\"].replace(d)\n",
    "df[\"Sales Value\"].unique()"
   ]
  },
  {
   "cell_type": "code",
   "execution_count": 18,
   "id": "cf806132",
   "metadata": {},
   "outputs": [
    {
     "data": {
      "text/plain": [
       "Index(['City coffee shop', 'Year', 'Month', 'Market segment', 'Sales Volume',\n",
       "       'Sales Value'],\n",
       "      dtype='object')"
      ]
     },
     "execution_count": 18,
     "metadata": {},
     "output_type": "execute_result"
    }
   ],
   "source": [
    "df.columns"
   ]
  },
  {
   "cell_type": "markdown",
   "id": "ef2d368b",
   "metadata": {},
   "source": [
    "# data visualization\n"
   ]
  },
  {
   "cell_type": "code",
   "execution_count": 24,
   "id": "4da81c2e",
   "metadata": {},
   "outputs": [
    {
     "data": {
      "image/png": "[encoded data removed]",
      "text/plain": [
       "<Figure size 640x480 with 1 Axes>"
      ]
     },
     "metadata": {},
     "output_type": "display_data"
    }
   ],
   "source": [
    "#chart 1\n",
    "a=sns.barplot(x=\"City coffee shop\",y=\"Sales Value\",hue=\"Year\",data=df)\n",
    "plt.title(\"Comparison of coffe shop sales across years\")\n",
    "plt.show()"
   ]
  },
  {
   "cell_type": "code",
   "execution_count": 38,
   "id": "41d553fb",
   "metadata": {},
   "outputs": [
    {
     "data": {
      "text/plain": [
       "<Figure size 2900x600 with 0 Axes>"
      ]
     },
     "execution_count": 38,
     "metadata": {},
     "output_type": "execute_result"
    },
    {
     "data": {
      "image/png": "[encoded data removed]",
      "text/plain": [
       "<Figure size 640x480 with 1 Axes>"
      ]
     },
     "metadata": {},
     "output_type": "display_data"
    },
    {
     "data": {
      "text/plain": [
       "<Figure size 2900x600 with 0 Axes>"
      ]
     },
     "metadata": {},
     "output_type": "display_data"
    }
   ],
   "source": [
    "#chart 2\n",
    "sns.barplot(x=\"City coffee shop\",y=\"Sales Value\", data=df, hue=\"Market segment\")\n",
    "plt.title(\"Sales by market segment across three cities\")\n",
    "plt.figure(figsize=(29,6))\n"
   ]
  },
  {
   "cell_type": "code",
   "execution_count": 39,
   "id": "4daf9633",
   "metadata": {},
   "outputs": [
    {
     "data": {
      "text/plain": [
       "Text(0.5, 1.0, 'Impact on sales of Plymouth in 2022')"
      ]
     },
     "execution_count": 39,
     "metadata": {},
     "output_type": "execute_result"
    },
    {
     "data": {
      "image/png": "[encoded data removed]",
      "text/plain": [
       "<Figure size 640x480 with 1 Axes>"
      ]
     },
     "metadata": {},
     "output_type": "display_data"
    }
   ],
   "source": [
    "#chart 2\n",
    "x=df[df[\"Year\"]==2022]\n",
    "f=x[[\"Year\",\"Sales Value\",\"City coffee shop\"]]\n",
    "sns.barplot(x=\"Sales Value\",y=\"City coffee shop\",hue=\"Year\",data=f)\n",
    "plt.title(\"Impact on sales of Plymouth in 2022\")"
   ]
  },
  {
   "cell_type": "code",
   "execution_count": 44,
   "id": "873be45c",
   "metadata": {},
   "outputs": [
    {
     "name": "stdout",
     "output_type": "stream",
     "text": [
      "<class 'pandas.core.frame.DataFrame'>\n",
      "RangeIndex: 648 entries, 0 to 647\n",
      "Data columns (total 6 columns):\n",
      " #   Column            Non-Null Count  Dtype  \n",
      "---  ------            --------------  -----  \n",
      " 0   City coffee shop  648 non-null    object \n",
      " 1   Year              648 non-null    int64  \n",
      " 2   Month             648 non-null    int64  \n",
      " 3   Market segment    648 non-null    object \n",
      " 4   Sales Volume      648 non-null    object \n",
      " 5   Sales Value       648 non-null    float64\n",
      "dtypes: float64(1), int64(2), object(3)\n",
      "memory usage: 30.5+ KB\n"
     ]
    }
   ],
   "source": [
    "df.info()"
   ]
  },
  {
   "cell_type": "code",
   "execution_count": 46,
   "id": "4f22be05",
   "metadata": {},
   "outputs": [
    {
     "name": "stdout",
     "output_type": "stream",
     "text": [
      "<class 'pandas.core.frame.DataFrame'>\n",
      "RangeIndex: 648 entries, 0 to 647\n",
      "Data columns (total 6 columns):\n",
      " #   Column            Non-Null Count  Dtype  \n",
      "---  ------            --------------  -----  \n",
      " 0   City coffee shop  648 non-null    object \n",
      " 1   Year              648 non-null    int64  \n",
      " 2   Month             648 non-null    int64  \n",
      " 3   Market segment    648 non-null    object \n",
      " 4   Sales Volume      648 non-null    int32  \n",
      " 5   Sales Value       648 non-null    float64\n",
      "dtypes: float64(1), int32(1), int64(2), object(2)\n",
      "memory usage: 28.0+ KB\n"
     ]
    }
   ],
   "source": [
    "df[\"Sales Volume\"]=df[\"Sales Volume\"].astype(\"int\")\n",
    "df.info()"
   ]
  },
  {
   "cell_type": "code",
   "execution_count": 48,
   "id": "a73b08f6",
   "metadata": {},
   "outputs": [
    {
     "data": {
      "text/html": [
       "<div>\n",
       "<style scoped>\n",
       "    .dataframe tbody tr th:only-of-type {\n",
       "        vertical-align: middle;\n",
       "    }\n",
       "\n",
       "    .dataframe tbody tr th {\n",
       "        vertical-align: top;\n",
       "    }\n",
       "\n",
       "    .dataframe thead th {\n",
       "        text-align: right;\n",
       "    }\n",
       "</style>\n",
       "<table border=\"1\" class=\"dataframe\">\n",
       "  <thead>\n",
       "    <tr style=\"text-align: right;\">\n",
       "      <th></th>\n",
       "      <th></th>\n",
       "      <th>Sales Value</th>\n",
       "      <th>Sales Volume</th>\n",
       "    </tr>\n",
       "    <tr>\n",
       "      <th>Year</th>\n",
       "      <th>Month</th>\n",
       "      <th></th>\n",
       "      <th></th>\n",
       "    </tr>\n",
       "  </thead>\n",
       "  <tbody>\n",
       "    <tr>\n",
       "      <th rowspan=\"12\" valign=\"top\">2020</th>\n",
       "      <th>1</th>\n",
       "      <td>221.791667</td>\n",
       "      <td>67.611111</td>\n",
       "    </tr>\n",
       "    <tr>\n",
       "      <th>2</th>\n",
       "      <td>181.638889</td>\n",
       "      <td>73.444444</td>\n",
       "    </tr>\n",
       "    <tr>\n",
       "      <th>3</th>\n",
       "      <td>273.097222</td>\n",
       "      <td>85.277778</td>\n",
       "    </tr>\n",
       "    <tr>\n",
       "      <th>4</th>\n",
       "      <td>304.083333</td>\n",
       "      <td>95.833333</td>\n",
       "    </tr>\n",
       "    <tr>\n",
       "      <th>5</th>\n",
       "      <td>269.097222</td>\n",
       "      <td>83.166667</td>\n",
       "    </tr>\n",
       "    <tr>\n",
       "      <th>6</th>\n",
       "      <td>284.486111</td>\n",
       "      <td>88.277778</td>\n",
       "    </tr>\n",
       "    <tr>\n",
       "      <th>7</th>\n",
       "      <td>320.305556</td>\n",
       "      <td>97.888889</td>\n",
       "    </tr>\n",
       "    <tr>\n",
       "      <th>8</th>\n",
       "      <td>328.125000</td>\n",
       "      <td>101.166667</td>\n",
       "    </tr>\n",
       "    <tr>\n",
       "      <th>9</th>\n",
       "      <td>265.722222</td>\n",
       "      <td>83.388889</td>\n",
       "    </tr>\n",
       "    <tr>\n",
       "      <th>10</th>\n",
       "      <td>273.847222</td>\n",
       "      <td>84.277778</td>\n",
       "    </tr>\n",
       "    <tr>\n",
       "      <th>11</th>\n",
       "      <td>257.680556</td>\n",
       "      <td>82.222222</td>\n",
       "    </tr>\n",
       "    <tr>\n",
       "      <th>12</th>\n",
       "      <td>288.527778</td>\n",
       "      <td>89.944444</td>\n",
       "    </tr>\n",
       "    <tr>\n",
       "      <th rowspan=\"12\" valign=\"top\">2021</th>\n",
       "      <th>1</th>\n",
       "      <td>232.291667</td>\n",
       "      <td>72.833333</td>\n",
       "    </tr>\n",
       "    <tr>\n",
       "      <th>2</th>\n",
       "      <td>249.125000</td>\n",
       "      <td>77.722222</td>\n",
       "    </tr>\n",
       "    <tr>\n",
       "      <th>3</th>\n",
       "      <td>278.347222</td>\n",
       "      <td>85.277778</td>\n",
       "    </tr>\n",
       "    <tr>\n",
       "      <th>4</th>\n",
       "      <td>340.388889</td>\n",
       "      <td>106.333333</td>\n",
       "    </tr>\n",
       "    <tr>\n",
       "      <th>5</th>\n",
       "      <td>235.347222</td>\n",
       "      <td>80.833333</td>\n",
       "    </tr>\n",
       "    <tr>\n",
       "      <th>6</th>\n",
       "      <td>303.263889</td>\n",
       "      <td>94.944444</td>\n",
       "    </tr>\n",
       "    <tr>\n",
       "      <th>7</th>\n",
       "      <td>317.111111</td>\n",
       "      <td>98.333333</td>\n",
       "    </tr>\n",
       "    <tr>\n",
       "      <th>8</th>\n",
       "      <td>348.638889</td>\n",
       "      <td>107.444444</td>\n",
       "    </tr>\n",
       "    <tr>\n",
       "      <th>9</th>\n",
       "      <td>285.569444</td>\n",
       "      <td>88.277778</td>\n",
       "    </tr>\n",
       "    <tr>\n",
       "      <th>10</th>\n",
       "      <td>298.000000</td>\n",
       "      <td>91.611111</td>\n",
       "    </tr>\n",
       "    <tr>\n",
       "      <th>11</th>\n",
       "      <td>298.111111</td>\n",
       "      <td>92.833333</td>\n",
       "    </tr>\n",
       "    <tr>\n",
       "      <th>12</th>\n",
       "      <td>270.041667</td>\n",
       "      <td>94.722222</td>\n",
       "    </tr>\n",
       "    <tr>\n",
       "      <th rowspan=\"12\" valign=\"top\">2022</th>\n",
       "      <th>1</th>\n",
       "      <td>235.819444</td>\n",
       "      <td>72.166667</td>\n",
       "    </tr>\n",
       "    <tr>\n",
       "      <th>2</th>\n",
       "      <td>257.125000</td>\n",
       "      <td>80.777778</td>\n",
       "    </tr>\n",
       "    <tr>\n",
       "      <th>3</th>\n",
       "      <td>295.597222</td>\n",
       "      <td>90.444444</td>\n",
       "    </tr>\n",
       "    <tr>\n",
       "      <th>4</th>\n",
       "      <td>353.930556</td>\n",
       "      <td>112.333333</td>\n",
       "    </tr>\n",
       "    <tr>\n",
       "      <th>5</th>\n",
       "      <td>296.791667</td>\n",
       "      <td>91.722222</td>\n",
       "    </tr>\n",
       "    <tr>\n",
       "      <th>6</th>\n",
       "      <td>308.788556</td>\n",
       "      <td>100.888889</td>\n",
       "    </tr>\n",
       "    <tr>\n",
       "      <th>7</th>\n",
       "      <td>373.591222</td>\n",
       "      <td>118.111111</td>\n",
       "    </tr>\n",
       "    <tr>\n",
       "      <th>8</th>\n",
       "      <td>435.183000</td>\n",
       "      <td>133.611111</td>\n",
       "    </tr>\n",
       "    <tr>\n",
       "      <th>9</th>\n",
       "      <td>330.380556</td>\n",
       "      <td>103.666667</td>\n",
       "    </tr>\n",
       "    <tr>\n",
       "      <th>10</th>\n",
       "      <td>331.297000</td>\n",
       "      <td>104.222222</td>\n",
       "    </tr>\n",
       "    <tr>\n",
       "      <th>11</th>\n",
       "      <td>346.659000</td>\n",
       "      <td>108.000000</td>\n",
       "    </tr>\n",
       "    <tr>\n",
       "      <th>12</th>\n",
       "      <td>326.648444</td>\n",
       "      <td>103.333333</td>\n",
       "    </tr>\n",
       "  </tbody>\n",
       "</table>\n",
       "</div>"
      ],
      "text/plain": [
       "            Sales Value  Sales Volume\n",
       "Year Month                           \n",
       "2020 1       221.791667     67.611111\n",
       "     2       181.638889     73.444444\n",
       "     3       273.097222     85.277778\n",
       "     4       304.083333     95.833333\n",
       "     5       269.097222     83.166667\n",
       "     6       284.486111     88.277778\n",
       "     7       320.305556     97.888889\n",
       "     8       328.125000    101.166667\n",
       "     9       265.722222     83.388889\n",
       "     10      273.847222     84.277778\n",
       "     11      257.680556     82.222222\n",
       "     12      288.527778     89.944444\n",
       "2021 1       232.291667     72.833333\n",
       "     2       249.125000     77.722222\n",
       "     3       278.347222     85.277778\n",
       "     4       340.388889    106.333333\n",
       "     5       235.347222     80.833333\n",
       "     6       303.263889     94.944444\n",
       "     7       317.111111     98.333333\n",
       "     8       348.638889    107.444444\n",
       "     9       285.569444     88.277778\n",
       "     10      298.000000     91.611111\n",
       "     11      298.111111     92.833333\n",
       "     12      270.041667     94.722222\n",
       "2022 1       235.819444     72.166667\n",
       "     2       257.125000     80.777778\n",
       "     3       295.597222     90.444444\n",
       "     4       353.930556    112.333333\n",
       "     5       296.791667     91.722222\n",
       "     6       308.788556    100.888889\n",
       "     7       373.591222    118.111111\n",
       "     8       435.183000    133.611111\n",
       "     9       330.380556    103.666667\n",
       "     10      331.297000    104.222222\n",
       "     11      346.659000    108.000000\n",
       "     12      326.648444    103.333333"
      ]
     },
     "execution_count": 48,
     "metadata": {},
     "output_type": "execute_result"
    }
   ],
   "source": [
    "#Table 1\n",
    "pv=df.pivot_table(values=[\"Sales Volume\",\"Sales Value\"],index=[\"Year\",\"Month\"])\n",
    "pv"
   ]
  },
  {
   "cell_type": "code",
   "execution_count": 50,
   "id": "b32074b3",
   "metadata": {},
   "outputs": [
    {
     "data": {
      "text/html": [
       "<div>\n",
       "<style scoped>\n",
       "    .dataframe tbody tr th:only-of-type {\n",
       "        vertical-align: middle;\n",
       "    }\n",
       "\n",
       "    .dataframe tbody tr th {\n",
       "        vertical-align: top;\n",
       "    }\n",
       "\n",
       "    .dataframe thead th {\n",
       "        text-align: right;\n",
       "    }\n",
       "</style>\n",
       "<table border=\"1\" class=\"dataframe\">\n",
       "  <thead>\n",
       "    <tr style=\"text-align: right;\">\n",
       "      <th></th>\n",
       "      <th></th>\n",
       "      <th>Sales Value</th>\n",
       "      <th>Sales Volume</th>\n",
       "    </tr>\n",
       "    <tr>\n",
       "      <th>Year</th>\n",
       "      <th>Market segment</th>\n",
       "      <th></th>\n",
       "      <th></th>\n",
       "    </tr>\n",
       "  </thead>\n",
       "  <tbody>\n",
       "    <tr>\n",
       "      <th rowspan=\"6\" valign=\"top\">2020</th>\n",
       "      <th>Families with children</th>\n",
       "      <td>239.263889</td>\n",
       "      <td>47.250000</td>\n",
       "    </tr>\n",
       "    <tr>\n",
       "      <th>Married young couples</th>\n",
       "      <td>253.854167</td>\n",
       "      <td>101.916667</td>\n",
       "    </tr>\n",
       "    <tr>\n",
       "      <th>Retired people</th>\n",
       "      <td>194.250000</td>\n",
       "      <td>101.833333</td>\n",
       "    </tr>\n",
       "    <tr>\n",
       "      <th>Single professionals</th>\n",
       "      <td>153.166667</td>\n",
       "      <td>75.694444</td>\n",
       "    </tr>\n",
       "    <tr>\n",
       "      <th>Tourists</th>\n",
       "      <td>183.916667</td>\n",
       "      <td>31.305556</td>\n",
       "    </tr>\n",
       "    <tr>\n",
       "      <th>Young people</th>\n",
       "      <td>609.750000</td>\n",
       "      <td>158.250000</td>\n",
       "    </tr>\n",
       "    <tr>\n",
       "      <th rowspan=\"6\" valign=\"top\">2021</th>\n",
       "      <th>Families with children</th>\n",
       "      <td>244.722222</td>\n",
       "      <td>49.361111</td>\n",
       "    </tr>\n",
       "    <tr>\n",
       "      <th>Married young couples</th>\n",
       "      <td>239.412162</td>\n",
       "      <td>106.216216</td>\n",
       "    </tr>\n",
       "    <tr>\n",
       "      <th>Retired people</th>\n",
       "      <td>214.657143</td>\n",
       "      <td>108.628571</td>\n",
       "    </tr>\n",
       "    <tr>\n",
       "      <th>Single professionals</th>\n",
       "      <td>162.805556</td>\n",
       "      <td>81.638889</td>\n",
       "    </tr>\n",
       "    <tr>\n",
       "      <th>Tourists</th>\n",
       "      <td>194.694444</td>\n",
       "      <td>32.194444</td>\n",
       "    </tr>\n",
       "    <tr>\n",
       "      <th>Young people</th>\n",
       "      <td>671.138889</td>\n",
       "      <td>167.611111</td>\n",
       "    </tr>\n",
       "    <tr>\n",
       "      <th rowspan=\"6\" valign=\"top\">2022</th>\n",
       "      <th>Families with children</th>\n",
       "      <td>269.443056</td>\n",
       "      <td>54.666667</td>\n",
       "    </tr>\n",
       "    <tr>\n",
       "      <th>Married young couples</th>\n",
       "      <td>306.596667</td>\n",
       "      <td>123.472222</td>\n",
       "    </tr>\n",
       "    <tr>\n",
       "      <th>Retired people</th>\n",
       "      <td>256.853444</td>\n",
       "      <td>127.333333</td>\n",
       "    </tr>\n",
       "    <tr>\n",
       "      <th>Single professionals</th>\n",
       "      <td>177.411778</td>\n",
       "      <td>88.472222</td>\n",
       "    </tr>\n",
       "    <tr>\n",
       "      <th>Tourists</th>\n",
       "      <td>213.912889</td>\n",
       "      <td>35.222222</td>\n",
       "    </tr>\n",
       "    <tr>\n",
       "      <th>Young people</th>\n",
       "      <td>721.688000</td>\n",
       "      <td>180.472222</td>\n",
       "    </tr>\n",
       "  </tbody>\n",
       "</table>\n",
       "</div>"
      ],
      "text/plain": [
       "                             Sales Value  Sales Volume\n",
       "Year Market segment                                   \n",
       "2020 Families with children   239.263889     47.250000\n",
       "     Married young couples    253.854167    101.916667\n",
       "     Retired people           194.250000    101.833333\n",
       "     Single professionals     153.166667     75.694444\n",
       "     Tourists                 183.916667     31.305556\n",
       "     Young people             609.750000    158.250000\n",
       "2021 Families with children   244.722222     49.361111\n",
       "     Married young couples    239.412162    106.216216\n",
       "     Retired people           214.657143    108.628571\n",
       "     Single professionals     162.805556     81.638889\n",
       "     Tourists                 194.694444     32.194444\n",
       "     Young people             671.138889    167.611111\n",
       "2022 Families with children   269.443056     54.666667\n",
       "     Married young couples    306.596667    123.472222\n",
       "     Retired people           256.853444    127.333333\n",
       "     Single professionals     177.411778     88.472222\n",
       "     Tourists                 213.912889     35.222222\n",
       "     Young people             721.688000    180.472222"
      ]
     },
     "execution_count": 50,
     "metadata": {},
     "output_type": "execute_result"
    }
   ],
   "source": [
    "#Table 2\n",
    "t2=df.pivot_table(values=[\"Sales Value\",\"Sales Volume\"],index=[\"Year\",\"Market segment\"])\n",
    "t2"
   ]
  },
  {
   "cell_type": "code",
   "execution_count": 52,
   "id": "2c021a4e",
   "metadata": {},
   "outputs": [
    {
     "data": {
      "text/html": [
       "<div>\n",
       "<style scoped>\n",
       "    .dataframe tbody tr th:only-of-type {\n",
       "        vertical-align: middle;\n",
       "    }\n",
       "\n",
       "    .dataframe tbody tr th {\n",
       "        vertical-align: top;\n",
       "    }\n",
       "\n",
       "    .dataframe thead th {\n",
       "        text-align: right;\n",
       "    }\n",
       "</style>\n",
       "<table border=\"1\" class=\"dataframe\">\n",
       "  <thead>\n",
       "    <tr style=\"text-align: right;\">\n",
       "      <th></th>\n",
       "      <th></th>\n",
       "      <th>Sales Value</th>\n",
       "      <th>Sales Volume</th>\n",
       "    </tr>\n",
       "    <tr>\n",
       "      <th>City coffee shop</th>\n",
       "      <th>Year</th>\n",
       "      <th></th>\n",
       "      <th></th>\n",
       "    </tr>\n",
       "  </thead>\n",
       "  <tbody>\n",
       "    <tr>\n",
       "      <th rowspan=\"3\" valign=\"top\">Newquay</th>\n",
       "      <th>2020</th>\n",
       "      <td>258.038194</td>\n",
       "      <td>84.111111</td>\n",
       "    </tr>\n",
       "    <tr>\n",
       "      <th>2021</th>\n",
       "      <td>280.149306</td>\n",
       "      <td>89.805556</td>\n",
       "    </tr>\n",
       "    <tr>\n",
       "      <th>2022</th>\n",
       "      <td>305.190972</td>\n",
       "      <td>95.041667</td>\n",
       "    </tr>\n",
       "    <tr>\n",
       "      <th rowspan=\"3\" valign=\"top\">Plymouth</th>\n",
       "      <th>2020</th>\n",
       "      <td>368.791667</td>\n",
       "      <td>115.583333</td>\n",
       "    </tr>\n",
       "    <tr>\n",
       "      <th>2021</th>\n",
       "      <td>384.333333</td>\n",
       "      <td>121.541667</td>\n",
       "    </tr>\n",
       "    <tr>\n",
       "      <th>2022</th>\n",
       "      <td>462.713333</td>\n",
       "      <td>144.888889</td>\n",
       "    </tr>\n",
       "    <tr>\n",
       "      <th rowspan=\"3\" valign=\"top\">Poole</th>\n",
       "      <th>2020</th>\n",
       "      <td>190.270833</td>\n",
       "      <td>58.430556</td>\n",
       "    </tr>\n",
       "    <tr>\n",
       "      <th>2021</th>\n",
       "      <td>199.576389</td>\n",
       "      <td>61.444444</td>\n",
       "    </tr>\n",
       "    <tr>\n",
       "      <th>2022</th>\n",
       "      <td>205.048611</td>\n",
       "      <td>64.888889</td>\n",
       "    </tr>\n",
       "  </tbody>\n",
       "</table>\n",
       "</div>"
      ],
      "text/plain": [
       "                       Sales Value  Sales Volume\n",
       "City coffee shop Year                           \n",
       "Newquay          2020   258.038194     84.111111\n",
       "                 2021   280.149306     89.805556\n",
       "                 2022   305.190972     95.041667\n",
       "Plymouth         2020   368.791667    115.583333\n",
       "                 2021   384.333333    121.541667\n",
       "                 2022   462.713333    144.888889\n",
       "Poole            2020   190.270833     58.430556\n",
       "                 2021   199.576389     61.444444\n",
       "                 2022   205.048611     64.888889"
      ]
     },
     "execution_count": 52,
     "metadata": {},
     "output_type": "execute_result"
    }
   ],
   "source": [
    "#Table 3\n",
    "t3=df.pivot_table(values=[\"Sales Value\",\"Sales Volume\"],index=[\"City coffee shop\",\"Year\"])\n",
    "t3"
   ]
  },
  {
   "cell_type": "code",
   "execution_count": null,
   "id": "d96e64c9",
   "metadata": {},
   "outputs": [],
   "source": []
  },
  {
   "cell_type": "code",
   "execution_count": null,
   "id": "013c3450",
   "metadata": {},
   "outputs": [],
   "source": []
  },
  {
   "cell_type": "code",
   "execution_count": null,
   "id": "52b24889",
   "metadata": {},
   "outputs": [],
   "source": []
  },
  {
   "cell_type": "code",
   "execution_count": null,
   "id": "d90a25f1",
   "metadata": {},
   "outputs": [],
   "source": []
  },
  {
   "cell_type": "code",
   "execution_count": null,
   "id": "678811e6",
   "metadata": {},
   "outputs": [],
   "source": []
  },
  {
   "cell_type": "code",
   "execution_count": null,
   "id": "9ecd7834",
   "metadata": {},
   "outputs": [],
   "source": []
  },
  {
   "cell_type": "code",
   "execution_count": null,
   "id": "2998c08d",
   "metadata": {},
   "outputs": [],
   "source": []
  },
  {
   "cell_type": "code",
   "execution_count": null,
   "id": "6d28a3ff",
   "metadata": {},
   "outputs": [],
   "source": []
  },
  {
   "cell_type": "code",
   "execution_count": null,
   "id": "b12161c0",
   "metadata": {},
   "outputs": [],
   "source": []
  },
  {
   "cell_type": "code",
   "execution_count": null,
   "id": "91daa177",
   "metadata": {},
   "outputs": [],
   "source": []
  },
  {
   "cell_type": "code",
   "execution_count": null,
   "id": "fc96b7e1",
   "metadata": {},
   "outputs": [],
   "source": []
  },
  {
   "cell_type": "code",
   "execution_count": null,
   "id": "a44295a2",
   "metadata": {},
   "outputs": [],
   "source": []
  },
  {
   "cell_type": "code",
   "execution_count": null,
   "id": "28263fb2",
   "metadata": {},
   "outputs": [],
   "source": []
  },
  {
   "cell_type": "code",
   "execution_count": null,
   "id": "0690a1f4",
   "metadata": {},
   "outputs": [],
   "source": []
  },
  {
   "cell_type": "code",
   "execution_count": null,
   "id": "b2a80581",
   "metadata": {},
   "outputs": [],
   "source": []
  },
  {
   "cell_type": "code",
   "execution_count": null,
   "id": "b238c35f",
   "metadata": {},
   "outputs": [],
   "source": []
  },
  {
   "cell_type": "code",
   "execution_count": null,
   "id": "671c3cf7",
   "metadata": {},
   "outputs": [],
   "source": []
  },
  {
   "cell_type": "code",
   "execution_count": null,
   "id": "19f50569",
   "metadata": {},
   "outputs": [],
   "source": []
  },
  {
   "cell_type": "code",
   "execution_count": null,
   "id": "031ce318",
   "metadata": {},
   "outputs": [],
   "source": []
  },
  {
   "cell_type": "code",
   "execution_count": null,
   "id": "3bdf0456",
   "metadata": {},
   "outputs": [],
   "source": []
  },
  {
   "cell_type": "code",
   "execution_count": null,
   "id": "46725ac1",
   "metadata": {},
   "outputs": [],
   "source": []
  },
  {
   "cell_type": "code",
   "execution_count": null,
   "id": "7b0f98c0",
   "metadata": {},
   "outputs": [],
   "source": []
  }
 ],
 "metadata": {
  "kernelspec": {
   "display_name": "Python 3 (ipykernel)",
   "language": "python",
   "name": "python3"
  },
  "language_info": {
   "codemirror_mode": {
    "name": "ipython",
    "version": 3
   },
   "file_extension": ".py",
   "mimetype": "text/x-python",
   "name": "python",
   "nbconvert_exporter": "python",
   "pygments_lexer": "ipython3",
   "version": "3.10.9"
  }
 },
 "nbformat": 4,
 "nbformat_minor": 5
}
